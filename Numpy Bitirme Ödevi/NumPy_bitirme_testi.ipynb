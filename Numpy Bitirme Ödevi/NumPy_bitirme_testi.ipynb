{
  "cells": [
    {
      "cell_type": "markdown",
      "metadata": {
        "id": "TFlNQLsNx0v9"
      },
      "source": [
        "# NumPy Exercises\n",
        "\n",
        "Bu zamana kadar gördüğümüz konularla alakalı bilgilerimizi test edelim\n",
        "\n",
        "<div class=\"alert alert-danger\" style=\"margin: 10px\"><strong>Uyarı!</strong> Output'un üstündeki kod hücrelerini çalıştırmayın !, <br>Aksi takdirde notebooktaki cevap outputlarını kaybedebilirsiniz!</div>"
      ]
    },
    {
      "cell_type": "markdown",
      "metadata": {
        "id": "Urf2FEJVx0v_"
      },
      "source": [
        "#### 1. NumPy kütüphanesi np kısaltması ile import edin"
      ]
    },
    {
      "cell_type": "code",
      "execution_count": null,
      "metadata": {
        "collapsed": true,
        "id": "K9BBbMxvx0wA"
      },
      "outputs": [],
      "source": [
        "import numpy as np"
      ]
    },
    {
      "cell_type": "markdown",
      "metadata": {
        "id": "clVFfz_9x0wA"
      },
      "source": [
        "#### 2. 10 tane 0 değerinden oluşan bir array oluşturun"
      ]
    },
    {
      "cell_type": "code",
      "execution_count": null,
      "metadata": {
        "colab": {
          "base_uri": "https://localhost:8080/"
        },
        "collapsed": true,
        "id": "S1-T0gejx0wA",
        "outputId": "8f4bd527-1671-4649-c4ce-bc3a4291a434"
      },
      "outputs": [
        {
          "data": {
            "text/plain": [
              "array([0., 0., 0., 0., 0., 0., 0., 0., 0., 0.])"
            ]
          },
          "execution_count": 2,
          "metadata": {},
          "output_type": "execute_result"
        }
      ],
      "source": [
        "arr = np.zeros(10)\n",
        "arr"
      ]
    },
    {
      "cell_type": "code",
      "execution_count": null,
      "metadata": {
        "id": "VsROHssPx0wA",
        "outputId": "35488f31-734d-41cf-f253-a4dababa2771"
      },
      "outputs": [
        {
          "data": {
            "text/plain": [
              "array([0., 0., 0., 0., 0., 0., 0., 0., 0., 0.])"
            ]
          },
          "execution_count": 2,
          "metadata": {},
          "output_type": "execute_result"
        }
      ],
      "source": [
        "# Bu hücreye kod yazıp çalıştırma !"
      ]
    },
    {
      "cell_type": "markdown",
      "metadata": {
        "id": "Xu4gGdFOx0wB"
      },
      "source": [
        "#### 3. 10 tane 1 değerinden oluşan bir array oluşturun"
      ]
    },
    {
      "cell_type": "code",
      "execution_count": null,
      "metadata": {
        "colab": {
          "base_uri": "https://localhost:8080/"
        },
        "collapsed": true,
        "id": "5meAtTWbx0wB",
        "outputId": "7a4256e7-d27a-4c7a-9e13-76e0f6afed79"
      },
      "outputs": [
        {
          "data": {
            "text/plain": [
              "array([1., 1., 1., 1., 1., 1., 1., 1., 1., 1.])"
            ]
          },
          "execution_count": 3,
          "metadata": {},
          "output_type": "execute_result"
        }
      ],
      "source": [
        "arr = np.ones(10)\n",
        "arr"
      ]
    },
    {
      "cell_type": "code",
      "execution_count": null,
      "metadata": {
        "id": "3hXK3KsWx0wB",
        "outputId": "1b574421-5469-4324-ce9b-81efc7005b43"
      },
      "outputs": [
        {
          "data": {
            "text/plain": [
              "array([1., 1., 1., 1., 1., 1., 1., 1., 1., 1.])"
            ]
          },
          "execution_count": 3,
          "metadata": {},
          "output_type": "execute_result"
        }
      ],
      "source": [
        "# Bu hücreye kod yazıp çalıştırma !"
      ]
    },
    {
      "cell_type": "markdown",
      "metadata": {
        "id": "5ZkEt0Pgx0wC"
      },
      "source": [
        "#### 4. 10 tane 5 değerinden oluşan bir array oluşturun"
      ]
    },
    {
      "cell_type": "code",
      "execution_count": null,
      "metadata": {
        "colab": {
          "base_uri": "https://localhost:8080/"
        },
        "collapsed": true,
        "id": "wE0-Tf_Mx0wC",
        "outputId": "873b3ba0-d3ea-4be1-94d5-82b245db1a61"
      },
      "outputs": [
        {
          "data": {
            "text/plain": [
              "array([5., 5., 5., 5., 5., 5., 5., 5., 5., 5.])"
            ]
          },
          "execution_count": 18,
          "metadata": {},
          "output_type": "execute_result"
        }
      ],
      "source": [
        "arr = np.ones(10)*5\n",
        "arr"
      ]
    },
    {
      "cell_type": "code",
      "execution_count": null,
      "metadata": {
        "id": "4mQc4fx9x0wC",
        "outputId": "1eff7c61-e909-4709-e275-168156af4115"
      },
      "outputs": [
        {
          "data": {
            "text/plain": [
              "array([5., 5., 5., 5., 5., 5., 5., 5., 5., 5.])"
            ]
          },
          "execution_count": 4,
          "metadata": {},
          "output_type": "execute_result"
        }
      ],
      "source": [
        "# Bu hücreye kod yazıp çalıştırma !"
      ]
    },
    {
      "cell_type": "markdown",
      "metadata": {
        "id": "UM1BSeSjx0wC"
      },
      "source": [
        "#### 5. 10'dan 50'ye kadar(10 ve 50 dahil) ardışık tam sayılardan oluşan bir array oluşturalım"
      ]
    },
    {
      "cell_type": "code",
      "execution_count": null,
      "metadata": {
        "colab": {
          "base_uri": "https://localhost:8080/"
        },
        "collapsed": true,
        "id": "Lx4nOA7dx0wC",
        "outputId": "0f9fd5a7-8766-4cbc-fbfb-f1e68045d024"
      },
      "outputs": [
        {
          "data": {
            "text/plain": [
              "array([10, 11, 12, 13, 14, 15, 16, 17, 18, 19, 20, 21, 22, 23, 24, 25, 26,\n",
              "       27, 28, 29, 30, 31, 32, 33, 34, 35, 36, 37, 38, 39, 40, 41, 42, 43,\n",
              "       44, 45, 46, 47, 48, 49, 50])"
            ]
          },
          "execution_count": 6,
          "metadata": {},
          "output_type": "execute_result"
        }
      ],
      "source": [
        "np.arange(10,51)"
      ]
    },
    {
      "cell_type": "code",
      "execution_count": null,
      "metadata": {
        "id": "FWyk1hgex0wC",
        "outputId": "807b9d46-1c83-424a-a416-6035387063d8"
      },
      "outputs": [
        {
          "data": {
            "text/plain": [
              "array([10, 11, 12, 13, 14, 15, 16, 17, 18, 19, 20, 21, 22, 23, 24, 25, 26,\n",
              "       27, 28, 29, 30, 31, 32, 33, 34, 35, 36, 37, 38, 39, 40, 41, 42, 43,\n",
              "       44, 45, 46, 47, 48, 49, 50])"
            ]
          },
          "execution_count": 5,
          "metadata": {},
          "output_type": "execute_result"
        }
      ],
      "source": [
        "# Bu hücreye kod yazıp çalıştırma !"
      ]
    },
    {
      "cell_type": "markdown",
      "metadata": {
        "id": "AjSINhgLx0wD"
      },
      "source": [
        "#### 6. 10 ve 50 arasındaki çift tam sayılardan oluşan bir array oluşturalım. (10 ve 50 dahil)"
      ]
    },
    {
      "cell_type": "code",
      "execution_count": null,
      "metadata": {
        "colab": {
          "base_uri": "https://localhost:8080/"
        },
        "collapsed": true,
        "id": "uo9w1oddx0wD",
        "outputId": "b14218e6-17ff-448c-f667-8514b50adcf7"
      },
      "outputs": [
        {
          "data": {
            "text/plain": [
              "array([10, 12, 14, 16, 18, 20, 22, 24, 26, 28, 30, 32, 34, 36, 38, 40, 42,\n",
              "       44, 46, 48, 50])"
            ]
          },
          "execution_count": 7,
          "metadata": {},
          "output_type": "execute_result"
        }
      ],
      "source": [
        "arr = np.arange(10,51,2)\n",
        "arr"
      ]
    },
    {
      "cell_type": "code",
      "execution_count": null,
      "metadata": {
        "id": "8yNcrBa0x0wD",
        "outputId": "e5020603-67fc-494b-a270-421a6e2fa663"
      },
      "outputs": [
        {
          "data": {
            "text/plain": [
              "array([10, 12, 14, 16, 18, 20, 22, 24, 26, 28, 30, 32, 34, 36, 38, 40, 42,\n",
              "       44, 46, 48, 50])"
            ]
          },
          "execution_count": 6,
          "metadata": {},
          "output_type": "execute_result"
        }
      ],
      "source": [
        "# Bu hücreye kod yazıp çalıştırma !"
      ]
    },
    {
      "cell_type": "markdown",
      "metadata": {
        "id": "pZJjf3K3x0wD"
      },
      "source": [
        "#### 7. 3x3 shape'inde 0'dan 8'e kadar toplam 9 tam sayıdan oluşan bir array oluşturalım"
      ]
    },
    {
      "cell_type": "code",
      "execution_count": null,
      "metadata": {
        "colab": {
          "base_uri": "https://localhost:8080/"
        },
        "collapsed": true,
        "id": "H33xNAoGx0wD",
        "outputId": "5e87cb8c-518c-4e22-a444-4156d7ae76c8"
      },
      "outputs": [
        {
          "data": {
            "text/plain": [
              "array([[0, 1, 2],\n",
              "       [3, 4, 5],\n",
              "       [6, 7, 8]])"
            ]
          },
          "execution_count": 19,
          "metadata": {},
          "output_type": "execute_result"
        }
      ],
      "source": [
        " arr = np.arange(0,9).reshape(3,3)\n",
        " arr"
      ]
    },
    {
      "cell_type": "code",
      "execution_count": null,
      "metadata": {
        "id": "-VnFiKpwx0wD",
        "outputId": "7c5871e3-03b8-4f07-c9e8-ff8d319c78f9"
      },
      "outputs": [
        {
          "data": {
            "text/plain": [
              "array([[0, 1, 2],\n",
              "       [3, 4, 5],\n",
              "       [6, 7, 8]])"
            ]
          },
          "execution_count": 7,
          "metadata": {},
          "output_type": "execute_result"
        }
      ],
      "source": [
        "# Bu hücreye kod yazıp çalıştırma !"
      ]
    },
    {
      "cell_type": "markdown",
      "metadata": {
        "id": "5jki51J0x0wD"
      },
      "source": [
        "#### 8. 3x3 boyutlarında birim matris oluşturun"
      ]
    },
    {
      "cell_type": "code",
      "execution_count": null,
      "metadata": {
        "colab": {
          "base_uri": "https://localhost:8080/"
        },
        "collapsed": true,
        "id": "kI8vEwQmx0wE",
        "outputId": "fccab63f-d879-4c4d-9620-cad0ab57953c"
      },
      "outputs": [
        {
          "data": {
            "text/plain": [
              "array([[1., 0., 0.],\n",
              "       [0., 1., 0.],\n",
              "       [0., 0., 1.]])"
            ]
          },
          "execution_count": 20,
          "metadata": {},
          "output_type": "execute_result"
        }
      ],
      "source": [
        "arr = np.eye(3)\n",
        "arr"
      ]
    },
    {
      "cell_type": "code",
      "execution_count": null,
      "metadata": {
        "id": "8qFNK0Wnx0wE",
        "outputId": "09f461f9-9b11-4d82-f269-593fd49c8a38"
      },
      "outputs": [
        {
          "data": {
            "text/plain": [
              "array([[1., 0., 0.],\n",
              "       [0., 1., 0.],\n",
              "       [0., 0., 1.]])"
            ]
          },
          "execution_count": 8,
          "metadata": {},
          "output_type": "execute_result"
        }
      ],
      "source": [
        "# Bu hücreye kod yazıp çalıştırma !"
      ]
    },
    {
      "cell_type": "markdown",
      "metadata": {
        "id": "FyayjRVSx0wE"
      },
      "source": [
        "#### 9. NumPy kullanarak 0-1 arasından rastgele bir sayı oluşturun. <br><br>&emsp;NOT: Değerler random seçildiği için sizin sonucunuz aşağıdaki çıktıdan farklı olacaktır"
      ]
    },
    {
      "cell_type": "code",
      "execution_count": null,
      "metadata": {
        "colab": {
          "base_uri": "https://localhost:8080/"
        },
        "collapsed": true,
        "id": "AHuf720Nx0wE",
        "outputId": "74bd8d4b-c98f-47c6-c431-e225a77e0f65"
      },
      "outputs": [
        {
          "data": {
            "text/plain": [
              "0.10527578271332705"
            ]
          },
          "execution_count": 50,
          "metadata": {},
          "output_type": "execute_result"
        }
      ],
      "source": [
        "np.random.rand()"
      ]
    },
    {
      "cell_type": "code",
      "execution_count": null,
      "metadata": {
        "id": "v36I67v6x0wE",
        "outputId": "182ac3f4-1d3d-4133-8e7e-6fa28958aa63"
      },
      "outputs": [
        {
          "data": {
            "text/plain": [
              "array([0.65248055])"
            ]
          },
          "execution_count": 9,
          "metadata": {},
          "output_type": "execute_result"
        }
      ],
      "source": [
        "# Bu hücreye kod yazıp çalıştırma !"
      ]
    },
    {
      "cell_type": "markdown",
      "metadata": {
        "id": "jnZDwH9xx0wE"
      },
      "source": [
        "#### 10. NumPy kullanarak standart dağılıma sahip 25 random sayıdan oluşan bir array oluşturalım. <br><br>&emsp;&ensp;NOT: Sizin cevabınız aşağıdaki çıktıdan farklı olacaktır"
      ]
    },
    {
      "cell_type": "code",
      "execution_count": null,
      "metadata": {
        "colab": {
          "base_uri": "https://localhost:8080/"
        },
        "collapsed": true,
        "id": "Ho59jiWnx0wE",
        "outputId": "0520cb2f-7757-4809-cb6e-f9746140b599"
      },
      "outputs": [
        {
          "data": {
            "text/plain": [
              "array([-0.68389995, -0.36545059, -2.05608348, -0.85739872,  1.06844722,\n",
              "       -0.63675074,  0.18191699,  0.6976426 , -2.02705312, -0.40747289,\n",
              "       -0.68052137, -0.14962883, -0.75971245, -0.80263237,  0.94254805,\n",
              "       -1.33557539, -0.05343172,  1.03108541, -1.63767013, -0.8626119 ,\n",
              "        0.4501767 ,  0.25845538, -0.00553642, -0.83975916,  0.81378195])"
            ]
          },
          "execution_count": 57,
          "metadata": {},
          "output_type": "execute_result"
        }
      ],
      "source": [
        "arr = np.random.randn(25)\n",
        "arr"
      ]
    },
    {
      "cell_type": "code",
      "execution_count": null,
      "metadata": {
        "id": "vRcd8sKex0wE",
        "outputId": "92cd6981-c4e8-4e68-b6e8-12c70acf707e"
      },
      "outputs": [
        {
          "data": {
            "text/plain": [
              "array([ 1.80076712, -1.12375847, -0.98524305,  0.11673573,  1.96346762,\n",
              "        1.81378592, -0.33790771,  0.85012656,  0.0100703 , -0.91005957,\n",
              "        0.29064366,  0.69906357,  0.1774377 , -0.61958694, -0.45498611,\n",
              "       -2.0804685 , -0.06778549,  1.06403819,  0.4311884 , -1.09853837,\n",
              "        1.11980469, -0.48751963,  1.32517611, -0.61775122, -0.00622865])"
            ]
          },
          "execution_count": 10,
          "metadata": {},
          "output_type": "execute_result"
        }
      ],
      "source": [
        "# Bu hücreye kod yazıp çalıştırma !"
      ]
    },
    {
      "cell_type": "markdown",
      "metadata": {
        "id": "2EZS__X3x0wF"
      },
      "source": [
        "#### 11. Aşağıdaki çıktıdakine benzer array'i oluşturmaya çalışın"
      ]
    },
    {
      "cell_type": "code",
      "execution_count": null,
      "metadata": {
        "colab": {
          "base_uri": "https://localhost:8080/"
        },
        "collapsed": true,
        "id": "1kRpBVagx0wF",
        "outputId": "f8d08951-654b-4541-f27d-8966585df91c"
      },
      "outputs": [
        {
          "data": {
            "text/plain": [
              "array([[0.36005871, 0.01418359, 0.61630654, 0.23386458, 0.78868132,\n",
              "        0.53888882, 0.93674132, 0.69071586, 0.84072854, 0.3166508 ],\n",
              "       [0.48249899, 0.44534943, 0.24230399, 0.73547904, 0.65540661,\n",
              "        0.365873  , 0.04022893, 0.29832003, 0.46176953, 0.31243966],\n",
              "       [0.70106534, 0.80886253, 0.24895412, 0.69705783, 0.69891061,\n",
              "        0.94028022, 0.96229213, 0.41053954, 0.54305377, 0.22826339],\n",
              "       [0.79078133, 0.23301119, 0.57113725, 0.00898289, 0.7196673 ,\n",
              "        0.9079906 , 0.1695692 , 0.48099628, 0.72912502, 0.72622647],\n",
              "       [0.05694671, 0.49192226, 0.07243913, 0.84502672, 0.81549676,\n",
              "        0.39931883, 0.98190606, 0.33767446, 0.62128553, 0.77702892],\n",
              "       [0.51857206, 0.73072835, 0.41267028, 0.05932383, 0.39656027,\n",
              "        0.99562734, 0.57838171, 0.6577782 , 0.54750939, 0.5742284 ],\n",
              "       [0.26805776, 0.96013137, 0.91586418, 0.09036217, 0.1794237 ,\n",
              "        0.91326378, 0.15886855, 0.4468492 , 0.44038479, 0.53965641],\n",
              "       [0.29917896, 0.93948457, 0.7609186 , 0.08523648, 0.31235762,\n",
              "        0.96439321, 0.51135207, 0.20790891, 0.69493622, 0.99487935],\n",
              "       [0.50389062, 0.36927775, 0.22367568, 0.71295955, 0.35037787,\n",
              "        0.5402637 , 0.38970539, 0.33744124, 0.29654268, 0.62015641],\n",
              "       [0.73850765, 0.74920174, 0.54532894, 0.19145806, 0.3804292 ,\n",
              "        0.96051394, 0.71781498, 0.73351258, 0.1132316 , 0.28195663]])"
            ]
          },
          "execution_count": 12,
          "metadata": {},
          "output_type": "execute_result"
        }
      ],
      "source": [
        "arr = np.random.rand(100).reshape(10,10)\n",
        "arr"
      ]
    },
    {
      "cell_type": "code",
      "execution_count": null,
      "metadata": {
        "id": "Ce0Ohk0qx0wF",
        "outputId": "8c052f66-87f6-4ae1-c318-22d495315fb5"
      },
      "outputs": [
        {
          "data": {
            "text/plain": [
              "array([[0.01, 0.02, 0.03, 0.04, 0.05, 0.06, 0.07, 0.08, 0.09, 0.1 ],\n",
              "       [0.11, 0.12, 0.13, 0.14, 0.15, 0.16, 0.17, 0.18, 0.19, 0.2 ],\n",
              "       [0.21, 0.22, 0.23, 0.24, 0.25, 0.26, 0.27, 0.28, 0.29, 0.3 ],\n",
              "       [0.31, 0.32, 0.33, 0.34, 0.35, 0.36, 0.37, 0.38, 0.39, 0.4 ],\n",
              "       [0.41, 0.42, 0.43, 0.44, 0.45, 0.46, 0.47, 0.48, 0.49, 0.5 ],\n",
              "       [0.51, 0.52, 0.53, 0.54, 0.55, 0.56, 0.57, 0.58, 0.59, 0.6 ],\n",
              "       [0.61, 0.62, 0.63, 0.64, 0.65, 0.66, 0.67, 0.68, 0.69, 0.7 ],\n",
              "       [0.71, 0.72, 0.73, 0.74, 0.75, 0.76, 0.77, 0.78, 0.79, 0.8 ],\n",
              "       [0.81, 0.82, 0.83, 0.84, 0.85, 0.86, 0.87, 0.88, 0.89, 0.9 ],\n",
              "       [0.91, 0.92, 0.93, 0.94, 0.95, 0.96, 0.97, 0.98, 0.99, 1.  ]])"
            ]
          },
          "execution_count": 11,
          "metadata": {},
          "output_type": "execute_result"
        }
      ],
      "source": [
        "# Bu hücreye kod yazıp çalıştırma !"
      ]
    },
    {
      "cell_type": "markdown",
      "metadata": {
        "id": "mMSiKC98x0wF"
      },
      "source": [
        "#### 12. 0-1 arasında lineer artış gösteren ve 20 sayıdan oluşan bir array oluşturun:"
      ]
    },
    {
      "cell_type": "code",
      "execution_count": null,
      "metadata": {
        "colab": {
          "base_uri": "https://localhost:8080/"
        },
        "collapsed": true,
        "id": "ospxnnb3x0wF",
        "outputId": "9f8ac338-1145-47ce-bf24-17b7c960c037"
      },
      "outputs": [
        {
          "data": {
            "text/plain": [
              "array([0.        , 0.05263158, 0.10526316, 0.15789474, 0.21052632,\n",
              "       0.26315789, 0.31578947, 0.36842105, 0.42105263, 0.47368421,\n",
              "       0.52631579, 0.57894737, 0.63157895, 0.68421053, 0.73684211,\n",
              "       0.78947368, 0.84210526, 0.89473684, 0.94736842, 1.        ])"
            ]
          },
          "execution_count": 13,
          "metadata": {},
          "output_type": "execute_result"
        }
      ],
      "source": [
        "arr = np.linspace(0,1,20)\n",
        "arr"
      ]
    },
    {
      "cell_type": "code",
      "execution_count": null,
      "metadata": {
        "id": "am0mZuzQx0wG",
        "outputId": "e7369d47-c6b5-43fc-bc4c-3275ba86cdfd"
      },
      "outputs": [
        {
          "data": {
            "text/plain": [
              "array([0.        , 0.05263158, 0.10526316, 0.15789474, 0.21052632,\n",
              "       0.26315789, 0.31578947, 0.36842105, 0.42105263, 0.47368421,\n",
              "       0.52631579, 0.57894737, 0.63157895, 0.68421053, 0.73684211,\n",
              "       0.78947368, 0.84210526, 0.89473684, 0.94736842, 1.        ])"
            ]
          },
          "execution_count": 12,
          "metadata": {},
          "output_type": "execute_result"
        }
      ],
      "source": [
        "# Bu hücreye kod yazıp çalıştırma !"
      ]
    },
    {
      "cell_type": "markdown",
      "metadata": {
        "id": "ewlpfTHax0wG"
      },
      "source": [
        "## NumPy Indexing and Selection\n",
        "\n",
        "Aşağıdaki matris sıradaki sorular için bizim başlangıç matrisimiz. (Aşağıdaki kod hücresini çalıştırarak devam edin.), devamında sorduğumuz soruları cevaplamaya çalışın:\n"
      ]
    },
    {
      "cell_type": "code",
      "execution_count": null,
      "metadata": {
        "colab": {
          "base_uri": "https://localhost:8080/"
        },
        "id": "aYlVNhmfx0wG",
        "outputId": "6daef716-e32d-4200-e006-7eba5e960709"
      },
      "outputs": [
        {
          "data": {
            "text/plain": [
              "array([[ 1,  2,  3,  4,  5],\n",
              "       [ 6,  7,  8,  9, 10],\n",
              "       [11, 12, 13, 14, 15],\n",
              "       [16, 17, 18, 19, 20],\n",
              "       [21, 22, 23, 24, 25]])"
            ]
          },
          "execution_count": 24,
          "metadata": {},
          "output_type": "execute_result"
        }
      ],
      "source": [
        "# RUN THIS CELL - THIS IS OUR STARTING MATRIX\n",
        "mat = np.arange(1,26).reshape(5,5)\n",
        "mat"
      ]
    },
    {
      "cell_type": "markdown",
      "metadata": {
        "id": "taKSP3qAx0wG"
      },
      "source": [
        "#### 13. Aşağıda verilen matrisleri oluşturmaya çalışın.<br><br>&emsp;&ensp;Çıktıların üstündeki kod hücresini çalıştırmayın, aksi takdirde çıktıları göremezsiniz"
      ]
    },
    {
      "cell_type": "code",
      "execution_count": null,
      "metadata": {
        "colab": {
          "base_uri": "https://localhost:8080/"
        },
        "collapsed": true,
        "id": "B0JSU0Cdx0wG",
        "outputId": "3abecadd-abaa-4826-de3d-408a324408fc"
      },
      "outputs": [
        {
          "data": {
            "text/plain": [
              "array([[ 2,  3,  4,  5],\n",
              "       [ 7,  8,  9, 10],\n",
              "       [12, 13, 14, 15]])"
            ]
          },
          "execution_count": 47,
          "metadata": {},
          "output_type": "execute_result"
        }
      ],
      "source": [
        "arr = np.array([mat[2][1:],mat[3][1:],mat[4][1:]])\n",
        "arr"
      ]
    },
    {
      "cell_type": "code",
      "execution_count": null,
      "metadata": {
        "id": "w_3RtgBgx0wH",
        "outputId": "4ad75547-d21d-4a8d-ecba-ca053393c64c"
      },
      "outputs": [
        {
          "data": {
            "text/plain": [
              "array([[12, 13, 14, 15],\n",
              "       [17, 18, 19, 20],\n",
              "       [22, 23, 24, 25]])"
            ]
          },
          "execution_count": 14,
          "metadata": {},
          "output_type": "execute_result"
        }
      ],
      "source": [
        "# Bu hücreye kod yazıp çalıştırma !"
      ]
    },
    {
      "cell_type": "markdown",
      "metadata": {
        "id": "72542lc0x0wH"
      },
      "source": [
        "#### 14. Write code that reproduces the output shown below.\n",
        "\n",
        "---\n",
        "\n"
      ]
    },
    {
      "cell_type": "code",
      "execution_count": null,
      "metadata": {
        "colab": {
          "base_uri": "https://localhost:8080/"
        },
        "collapsed": true,
        "id": "KGTH4OnCx0wH",
        "outputId": "7a18bf72-28b2-4de9-9df8-84a23ad86e2b"
      },
      "outputs": [
        {
          "data": {
            "text/plain": [
              "20"
            ]
          },
          "execution_count": 26,
          "metadata": {},
          "output_type": "execute_result"
        }
      ],
      "source": [
        "mat[3][-1]"
      ]
    },
    {
      "cell_type": "code",
      "execution_count": null,
      "metadata": {
        "id": "qPCk6ePjx0wH",
        "outputId": "97dc9241-8201-4016-8c60-b3e35e540961"
      },
      "outputs": [
        {
          "data": {
            "text/plain": [
              "20"
            ]
          },
          "execution_count": 15,
          "metadata": {},
          "output_type": "execute_result"
        }
      ],
      "source": [
        "# Bu hücreye kod yazıp çalıştırma !"
      ]
    },
    {
      "cell_type": "markdown",
      "metadata": {
        "id": "KRPxsL6qx0wH"
      },
      "source": [
        "#### 15. mat arrayini kullanarak aşağıdaki matris çıktısını verecek kodları oluşturun"
      ]
    },
    {
      "cell_type": "code",
      "execution_count": null,
      "metadata": {
        "colab": {
          "base_uri": "https://localhost:8080/"
        },
        "collapsed": true,
        "id": "zQdlFRAFx0wH",
        "outputId": "755d9d07-5834-4362-9bbc-24b9ffc66124"
      },
      "outputs": [
        {
          "data": {
            "text/plain": [
              "array([[ 2],\n",
              "       [ 7],\n",
              "       [12]])"
            ]
          },
          "execution_count": 41,
          "metadata": {},
          "output_type": "execute_result"
        }
      ],
      "source": [
        "arr = np.array([[mat[0][1]],[mat[1][1]],[mat[2][1]]])\n",
        "arr"
      ]
    },
    {
      "cell_type": "code",
      "execution_count": null,
      "metadata": {
        "id": "lhxpcLS-x0wI",
        "outputId": "78e2f7dc-fdc8-40e7-953b-5d4da713d5f9"
      },
      "outputs": [
        {
          "data": {
            "text/plain": [
              "array([[ 2],\n",
              "       [ 7],\n",
              "       [12]])"
            ]
          },
          "execution_count": 16,
          "metadata": {},
          "output_type": "execute_result"
        }
      ],
      "source": [
        "# Bu hücreye kod yazıp çalıştırma !"
      ]
    },
    {
      "cell_type": "markdown",
      "metadata": {
        "id": "mXMPk7GZx0wI"
      },
      "source": [
        "#### 16. mat arrayini kullanarak aşağıdaki matris çıktısını verecek kodları oluşturun"
      ]
    },
    {
      "cell_type": "code",
      "execution_count": null,
      "metadata": {
        "colab": {
          "base_uri": "https://localhost:8080/"
        },
        "collapsed": true,
        "id": "u8yrj1apx0wI",
        "outputId": "52521d6e-484e-461f-b1a9-ff924e438c60"
      },
      "outputs": [
        {
          "data": {
            "text/plain": [
              "array([21, 22, 23, 24, 25])"
            ]
          },
          "execution_count": 27,
          "metadata": {},
          "output_type": "execute_result"
        }
      ],
      "source": [
        "mat[-1]"
      ]
    },
    {
      "cell_type": "code",
      "execution_count": null,
      "metadata": {
        "id": "0edSwV9hx0wI",
        "outputId": "ef33866d-855a-4a5d-c29c-6b34e1efcf6a"
      },
      "outputs": [
        {
          "data": {
            "text/plain": [
              "array([21, 22, 23, 24, 25])"
            ]
          },
          "execution_count": 17,
          "metadata": {},
          "output_type": "execute_result"
        }
      ],
      "source": [
        "# Bu hücreye kod yazıp çalıştırma !"
      ]
    },
    {
      "cell_type": "markdown",
      "metadata": {
        "id": "ZztGOj-Px0wI"
      },
      "source": [
        "#### 17. mat arrayini kullanarak aşağıdaki matris çıktısını verecek kodları oluşturun"
      ]
    },
    {
      "cell_type": "code",
      "execution_count": null,
      "metadata": {
        "colab": {
          "base_uri": "https://localhost:8080/"
        },
        "collapsed": true,
        "id": "q8FBKUO5x0wJ",
        "outputId": "188ffdfc-2f56-4cb2-9844-48cba8464837"
      },
      "outputs": [
        {
          "data": {
            "text/plain": [
              "array([[16, 17, 18, 19, 20],\n",
              "       [21, 22, 23, 24, 25]])"
            ]
          },
          "execution_count": 30,
          "metadata": {},
          "output_type": "execute_result"
        }
      ],
      "source": [
        "mat[3:]"
      ]
    },
    {
      "cell_type": "code",
      "execution_count": null,
      "metadata": {
        "id": "-bA6BNKEx0wJ",
        "outputId": "87bc0307-8c31-491d-af9e-01f4f2238b0e"
      },
      "outputs": [
        {
          "data": {
            "text/plain": [
              "array([[16, 17, 18, 19, 20],\n",
              "       [21, 22, 23, 24, 25]])"
            ]
          },
          "execution_count": 18,
          "metadata": {},
          "output_type": "execute_result"
        }
      ],
      "source": [
        "# Bu hücreye kod yazıp çalıştırma !"
      ]
    },
    {
      "cell_type": "markdown",
      "metadata": {
        "id": "OktsVYaqx0wJ"
      },
      "source": [
        "## NumPy Operations"
      ]
    },
    {
      "cell_type": "markdown",
      "metadata": {
        "id": "YUTNi2lKx0wK"
      },
      "source": [
        "#### 18. Mat arrayindeki bütün değerlerin toplamını bulun"
      ]
    },
    {
      "cell_type": "code",
      "execution_count": null,
      "metadata": {
        "colab": {
          "base_uri": "https://localhost:8080/"
        },
        "collapsed": true,
        "id": "WOQeYd0Mx0wK",
        "outputId": "0c5e5916-7c08-4ee6-dd9e-eaa400b01cca"
      },
      "outputs": [
        {
          "data": {
            "text/plain": [
              "325"
            ]
          },
          "execution_count": 31,
          "metadata": {},
          "output_type": "execute_result"
        }
      ],
      "source": [
        "mat.sum()"
      ]
    },
    {
      "cell_type": "code",
      "execution_count": null,
      "metadata": {
        "id": "diR2RCoDx0wK",
        "outputId": "d105dd19-b3e3-49fd-9ded-a4651e188397"
      },
      "outputs": [
        {
          "data": {
            "text/plain": [
              "325"
            ]
          },
          "execution_count": 19,
          "metadata": {},
          "output_type": "execute_result"
        }
      ],
      "source": [
        "# Bu hücreye kod yazıp çalıştırma !"
      ]
    },
    {
      "cell_type": "markdown",
      "metadata": {
        "id": "j91WbCOdx0wK"
      },
      "source": [
        "#### 19. Mat arrayindeki değerlerin standart sapmasını bulun"
      ]
    },
    {
      "cell_type": "code",
      "execution_count": null,
      "metadata": {
        "colab": {
          "base_uri": "https://localhost:8080/"
        },
        "collapsed": true,
        "id": "gzt6nwPDx0wL",
        "outputId": "2e59d23e-8765-47cc-96ca-2607ef691aef"
      },
      "outputs": [
        {
          "data": {
            "text/plain": [
              "7.211102550927978"
            ]
          },
          "execution_count": 32,
          "metadata": {},
          "output_type": "execute_result"
        }
      ],
      "source": [
        "mat.std()"
      ]
    },
    {
      "cell_type": "code",
      "execution_count": null,
      "metadata": {
        "id": "-f7I3xwBx0wL",
        "outputId": "4e07123f-daec-4ca1-a73f-e83c18f07c81"
      },
      "outputs": [
        {
          "data": {
            "text/plain": [
              "7.211102550927978"
            ]
          },
          "execution_count": 20,
          "metadata": {},
          "output_type": "execute_result"
        }
      ],
      "source": [
        "# Bu hücreye kod yazıp çalıştırma !"
      ]
    },
    {
      "cell_type": "markdown",
      "metadata": {
        "id": "6d4fNDsVx0wL"
      },
      "source": [
        "#### 20. Mat arrayindeki her sütunun kendi içinde toplamlarını bularak yeni bir array oluşturun"
      ]
    },
    {
      "cell_type": "code",
      "execution_count": null,
      "metadata": {
        "colab": {
          "base_uri": "https://localhost:8080/"
        },
        "collapsed": true,
        "id": "5YtGypTwx0wL",
        "outputId": "2beecf72-ee98-4913-df98-dfc9d34b91c3"
      },
      "outputs": [
        {
          "data": {
            "text/plain": [
              "array([55, 60, 65, 70, 75])"
            ]
          },
          "execution_count": 35,
          "metadata": {},
          "output_type": "execute_result"
        }
      ],
      "source": [
        "arr = mat[0]+mat[1]+mat[2]+mat[3]+mat[4]\n",
        "arr"
      ]
    },
    {
      "cell_type": "code",
      "execution_count": null,
      "metadata": {
        "id": "J-S86W0nx0wL",
        "outputId": "71c79e38-92d3-4153-b604-e52452368da3"
      },
      "outputs": [
        {
          "data": {
            "text/plain": [
              "array([55, 60, 65, 70, 75])"
            ]
          },
          "execution_count": 21,
          "metadata": {},
          "output_type": "execute_result"
        }
      ],
      "source": [
        "# Bu hücreye kod yazıp çalıştırma !"
      ]
    },
    {
      "cell_type": "markdown",
      "metadata": {
        "collapsed": true,
        "id": "64wh7o1hx0wL"
      },
      "source": [
        "# Tebrikler, NumPy temelleri öğrenilmiş!"
      ]
    }
  ],
  "metadata": {
    "anaconda-cloud": {},
    "colab": {
      "provenance": []
    },
    "kernelspec": {
      "display_name": "Python 3",
      "language": "python",
      "name": "python3"
    },
    "language_info": {
      "codemirror_mode": {
        "name": "ipython",
        "version": 3
      },
      "file_extension": ".py",
      "mimetype": "text/x-python",
      "name": "python",
      "nbconvert_exporter": "python",
      "pygments_lexer": "ipython3",
      "version": "3.10.10"
    }
  },
  "nbformat": 4,
  "nbformat_minor": 0
}