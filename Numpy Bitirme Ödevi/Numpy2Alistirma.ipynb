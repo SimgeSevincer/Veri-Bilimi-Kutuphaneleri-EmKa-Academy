{
  "cells": [
    {
      "cell_type": "code",
      "execution_count": 5,
      "metadata": {
        "id": "sLJHVJuDozeP"
      },
      "outputs": [],
      "source": [
        "import numpy as np"
      ]
    },
    {
      "cell_type": "markdown",
      "metadata": {
        "id": "7STg-EGso3_D"
      },
      "source": [
        "1) 0-29 arası(29 dahil, toplam 30 tam sayı) tam sayılardan oluşan bir boyutlu bir array oluşturun ardından bu array'in shape'ini (15,2) şeklinde güncelleyip 2 boyutlu hale getirin.\n"
      ]
    },
    {
      "cell_type": "code",
      "execution_count": 8,
      "metadata": {
        "colab": {
          "base_uri": "https://localhost:8080/"
        },
        "id": "pe4zoZQFpj0U",
        "outputId": "3cbbeed0-ae21-47c1-8485-13849e6af955"
      },
      "outputs": [
        {
          "data": {
            "text/plain": [
              "array([[ 0,  1],\n",
              "       [ 2,  3],\n",
              "       [ 4,  5],\n",
              "       [ 6,  7],\n",
              "       [ 8,  9],\n",
              "       [10, 11],\n",
              "       [12, 13],\n",
              "       [14, 15],\n",
              "       [16, 17],\n",
              "       [18, 19],\n",
              "       [20, 21],\n",
              "       [22, 23],\n",
              "       [24, 25],\n",
              "       [26, 27],\n",
              "       [28, 29]])"
            ]
          },
          "execution_count": 8,
          "metadata": {},
          "output_type": "execute_result"
        }
      ],
      "source": [
        "arr1d=np.arange(30)\n",
        "arr2d=arr1d.reshape(15,2)\n",
        "arr2d"
      ]
    },
    {
      "cell_type": "markdown",
      "metadata": {
        "id": "KdX0vJqao6wF"
      },
      "source": [
        "2) 60 adet rastgele tam sayı verilerinden oluşan bir boyutlu bir array oluşturun. Devamında bu array'i istediğiniz shapelerde 3 boyutlu hale getirin ve son durumda oluşan array'in boyutunu ve shape'ini kontrol edin.\n"
      ]
    },
    {
      "cell_type": "code",
      "execution_count": 15,
      "metadata": {
        "colab": {
          "base_uri": "https://localhost:8080/"
        },
        "id": "u9jb3QNwo9rS",
        "outputId": "e2525ace-009c-4052-8ba7-4ea671b6bab5"
      },
      "outputs": [
        {
          "data": {
            "text/plain": [
              "array([[[ 48,  30, 159,  46, 173,  78],\n",
              "        [189, 464, 197, 567, 190,  20],\n",
              "        [118, 252,   5, 112, 364, 598],\n",
              "        [224, 470, 214,  36,  28, 170],\n",
              "        [  7, 153, 292, 114,  14, 306]],\n",
              "\n",
              "       [[292, 163,  93, 259, 487, 529],\n",
              "        [260, 549, 162, 105, 288, 159],\n",
              "        [172, 445, 149, 206, 573, 202],\n",
              "        [563, 179, 384, 168,  92, 234],\n",
              "        [115, 212, 388,  64, 362, 376]]])"
            ]
          },
          "execution_count": 15,
          "metadata": {},
          "output_type": "execute_result"
        }
      ],
      "source": [
        "arr1d= np.random.randint(0,600,60,dtype=int)\n",
        "arr1d= arr1d.reshape(2,5,-1)\n",
        "arr1d"
      ]
    },
    {
      "cell_type": "markdown",
      "metadata": {
        "id": "l7YvGuG_o90s"
      },
      "source": [
        "3) 20 elemanlı ve sadece rakamlardan oluşan iki boyutlu bir array oluşturun. Ardından bu array'i düzleştirin ve tek boyutlu hale getirin ve son durumda oluşan array'in boyutunu ve shape'ini kontrol edin.\n"
      ]
    },
    {
      "cell_type": "code",
      "execution_count": 26,
      "metadata": {
        "colab": {
          "base_uri": "https://localhost:8080/"
        },
        "id": "21V8DBlxo_I9",
        "outputId": "ca30c58c-e17a-47f8-8613-4eae17704b43"
      },
      "outputs": [
        {
          "data": {
            "text/plain": [
              "array([1, 1, 5, 8, 3, 3, 7, 3, 0, 2, 7, 7, 4, 0, 1, 8, 6, 7, 8, 7])"
            ]
          },
          "execution_count": 26,
          "metadata": {},
          "output_type": "execute_result"
        }
      ],
      "source": [
        "arr2d=np.random.randint(0,9,20).reshape(4,5)\n",
        "arr1d=arr2d.reshape(-1)\n",
        "arr1d\n",
        "\n",
        "\n"
      ]
    },
    {
      "cell_type": "code",
      "execution_count": 27,
      "metadata": {
        "colab": {
          "base_uri": "https://localhost:8080/"
        },
        "id": "POdauwG9rtuF",
        "outputId": "d712e968-c2dd-4004-be27-fe141b366517"
      },
      "outputs": [
        {
          "data": {
            "text/plain": [
              "1"
            ]
          },
          "execution_count": 27,
          "metadata": {},
          "output_type": "execute_result"
        }
      ],
      "source": [
        "arr1d.ndim"
      ]
    },
    {
      "cell_type": "code",
      "execution_count": 28,
      "metadata": {
        "colab": {
          "base_uri": "https://localhost:8080/"
        },
        "id": "gPiUMbEgryv_",
        "outputId": "fc994560-73e3-4c49-ded5-5d114dfc60cb"
      },
      "outputs": [
        {
          "data": {
            "text/plain": [
              "(20,)"
            ]
          },
          "execution_count": 28,
          "metadata": {},
          "output_type": "execute_result"
        }
      ],
      "source": [
        "arr1d.shape"
      ]
    },
    {
      "cell_type": "markdown",
      "metadata": {
        "id": "cmvd0OD0o_Mo"
      },
      "source": [
        "4) İstediğiniz herhangi elemanlardan oluşan 2 Boyutlu bir array oluşturun. Oluşturduğunuz bu 2 boyutlu array'in içindeki bütün elemanları hem yavaş yol olan for döngüsüyle hem de daha hızlı yol olan uygun NumPy metoduyla tek tek dönerek ekrana yazdırın.\n"
      ]
    },
    {
      "cell_type": "code",
      "execution_count": 33,
      "metadata": {
        "colab": {
          "base_uri": "https://localhost:8080/"
        },
        "id": "jqVcrajgpAPs",
        "outputId": "ca6aa9a3-4e20-48c4-c485-888523bdbae0"
      },
      "outputs": [
        {
          "name": "stdout",
          "output_type": "stream",
          "text": [
            "1\n",
            "2\n",
            "3\n",
            "5\n",
            "8\n",
            "4\n"
          ]
        }
      ],
      "source": [
        "arr2d = np.array([[1,2,3],[5,8,4]])\n",
        "for i in arr2d:\n",
        "  for x in i:\n",
        "    print(x)\n"
      ]
    },
    {
      "cell_type": "code",
      "execution_count": 35,
      "metadata": {
        "colab": {
          "base_uri": "https://localhost:8080/"
        },
        "id": "bT0tb0qztWdU",
        "outputId": "65ee84eb-9012-4d9c-bc8a-e77244bcc118"
      },
      "outputs": [
        {
          "name": "stdout",
          "output_type": "stream",
          "text": [
            "1\n",
            "2\n",
            "3\n",
            "5\n",
            "8\n",
            "4\n"
          ]
        }
      ],
      "source": [
        "for x in np.nditer(arr2d):\n",
        "  print(x)\n",
        "     "
      ]
    },
    {
      "cell_type": "markdown",
      "metadata": {
        "id": "SeMQ48NzpATJ"
      },
      "source": [
        "5) 5,10,15,20,25,30 değerlerinden oluşan bir boyutlu bir array ve\n",
        "   1,2,3,4,5,6 değerlerinden oluşan başka bir boyutlu bir array oluşturun.\n",
        "   Bu arraylerinin elemanlarına kendi aralarında 4 işlem uygulayın. İki arrayinde 1.indexindekiler toplansın/çıkartılsın/çarpılsın/bölünsün gibi."
      ]
    },
    {
      "cell_type": "code",
      "execution_count": 36,
      "metadata": {
        "colab": {
          "base_uri": "https://localhost:8080/"
        },
        "id": "FvM77EDxpCoV",
        "outputId": "040eb146-01e4-46ec-db27-13b03ad8cd97"
      },
      "outputs": [
        {
          "data": {
            "text/plain": [
              "array([ 6, 12, 18, 24, 30, 36])"
            ]
          },
          "execution_count": 36,
          "metadata": {},
          "output_type": "execute_result"
        }
      ],
      "source": [
        "arr1=np.arange(5,31,5)\n",
        "arr2=np.arange(1,7)\n",
        "arr1+arr2"
      ]
    },
    {
      "cell_type": "code",
      "execution_count": 37,
      "metadata": {
        "colab": {
          "base_uri": "https://localhost:8080/"
        },
        "id": "c5SDtvltu13e",
        "outputId": "a2763e02-d7d2-46ed-e144-e50b7f9532d3"
      },
      "outputs": [
        {
          "data": {
            "text/plain": [
              "array([  5,  20,  45,  80, 125, 180])"
            ]
          },
          "execution_count": 37,
          "metadata": {},
          "output_type": "execute_result"
        }
      ],
      "source": [
        "arr1*arr2"
      ]
    },
    {
      "cell_type": "code",
      "execution_count": 38,
      "metadata": {
        "colab": {
          "base_uri": "https://localhost:8080/"
        },
        "id": "gy9UYkRvu4BC",
        "outputId": "33e1c67f-8009-42c8-a58f-3ca55fd161e8"
      },
      "outputs": [
        {
          "data": {
            "text/plain": [
              "array([ 4,  8, 12, 16, 20, 24])"
            ]
          },
          "execution_count": 38,
          "metadata": {},
          "output_type": "execute_result"
        }
      ],
      "source": [
        "arr1-arr2"
      ]
    },
    {
      "cell_type": "code",
      "execution_count": 39,
      "metadata": {
        "colab": {
          "base_uri": "https://localhost:8080/"
        },
        "id": "ZGYv14g2u60S",
        "outputId": "7d79d9b9-8122-41b7-93b2-9a04b1d1a6a3"
      },
      "outputs": [
        {
          "data": {
            "text/plain": [
              "array([5., 5., 5., 5., 5., 5.])"
            ]
          },
          "execution_count": 39,
          "metadata": {},
          "output_type": "execute_result"
        }
      ],
      "source": [
        "arr1/arr2"
      ]
    },
    {
      "cell_type": "markdown",
      "metadata": {
        "id": "2KpEDkeMpCrr"
      },
      "source": [
        "6) 0-100 arası rastgele 10 tam sayıdan oluşan bir array oluşturun ve oluşturulan arrayin sum/mean/max/var/std değerlerini inceleyin.\n"
      ]
    },
    {
      "cell_type": "code",
      "execution_count": 40,
      "metadata": {
        "colab": {
          "base_uri": "https://localhost:8080/"
        },
        "id": "TVTNiBY1pEbp",
        "outputId": "d9622a8b-7ab6-45b1-a275-e4ef902e5d79"
      },
      "outputs": [
        {
          "data": {
            "text/plain": [
              "array([ 5, 79, 67, 62,  8,  2, 84, 81, 13, 82])"
            ]
          },
          "execution_count": 40,
          "metadata": {},
          "output_type": "execute_result"
        }
      ],
      "source": [
        "arr2d=np.random.randint(0,100,10)\n",
        "arr2d\n",
        "\n"
      ]
    },
    {
      "cell_type": "code",
      "execution_count": 41,
      "metadata": {
        "colab": {
          "base_uri": "https://localhost:8080/"
        },
        "id": "vxbqwIMdvlUY",
        "outputId": "7d9a2a94-b667-4607-ffc6-75bec1bdec4a"
      },
      "outputs": [
        {
          "data": {
            "text/plain": [
              "48.3"
            ]
          },
          "execution_count": 41,
          "metadata": {},
          "output_type": "execute_result"
        }
      ],
      "source": [
        "arr2d.mean()\n"
      ]
    },
    {
      "cell_type": "code",
      "execution_count": 42,
      "metadata": {
        "colab": {
          "base_uri": "https://localhost:8080/"
        },
        "id": "yBYJFMruvuXR",
        "outputId": "03597fe4-543c-42c0-97b8-5b9316afe340"
      },
      "outputs": [
        {
          "data": {
            "text/plain": [
              "483"
            ]
          },
          "execution_count": 42,
          "metadata": {},
          "output_type": "execute_result"
        }
      ],
      "source": [
        "arr2d.sum()\n",
        "\n"
      ]
    },
    {
      "cell_type": "code",
      "execution_count": 43,
      "metadata": {
        "colab": {
          "base_uri": "https://localhost:8080/"
        },
        "id": "tjO0RddXv0bK",
        "outputId": "8c5cffa3-6922-48e5-9073-15312dda343d"
      },
      "outputs": [
        {
          "data": {
            "text/plain": [
              "1184.81"
            ]
          },
          "execution_count": 43,
          "metadata": {},
          "output_type": "execute_result"
        }
      ],
      "source": [
        "arr2d.var()\n"
      ]
    },
    {
      "cell_type": "code",
      "execution_count": 44,
      "metadata": {
        "colab": {
          "base_uri": "https://localhost:8080/"
        },
        "id": "PmFjWeN2v9z1",
        "outputId": "012f40b9-74f7-42f4-d999-67a6fd8cf13b"
      },
      "outputs": [
        {
          "data": {
            "text/plain": [
              "34.421069129241175"
            ]
          },
          "execution_count": 44,
          "metadata": {},
          "output_type": "execute_result"
        }
      ],
      "source": [
        "arr2d.std()\n"
      ]
    },
    {
      "cell_type": "markdown",
      "metadata": {
        "id": "F03h8V_lpEfZ"
      },
      "source": [
        "7) 0-20 arası(20 dahil değil) tam sayılardan oluşan ve 500-530(530 dahil) arası tam sayılardan oluşan 2 array oluşturun. Ardından bu iki array'i concatenate ederek ekrana yazdırın.\n"
      ]
    },
    {
      "cell_type": "code",
      "execution_count": 47,
      "metadata": {
        "colab": {
          "base_uri": "https://localhost:8080/"
        },
        "id": "_VXvebulpFoS",
        "outputId": "ada0da4a-d6a4-42eb-bd9c-c2ff0c7b22b5"
      },
      "outputs": [
        {
          "data": {
            "text/plain": [
              "array([  0,   1,   2,   3,   4,   5,   6,   7,   8,   9,  10,  11,  12,\n",
              "        13,  14,  15,  16,  17,  18,  19, 500, 501, 502, 503, 504, 505,\n",
              "       506, 507, 508, 509, 510, 511, 512, 513, 514, 515, 516, 517, 518,\n",
              "       519, 520, 521, 522, 523, 524, 525, 526, 527, 528, 529, 530])"
            ]
          },
          "execution_count": 47,
          "metadata": {},
          "output_type": "execute_result"
        }
      ],
      "source": [
        "arr1=np.arange(0,20)\n",
        "arr2=np.arange(500,531)\n",
        "np.concatenate([arr1,arr2] , axis = 0 )"
      ]
    },
    {
      "cell_type": "markdown",
      "metadata": {
        "id": "hwHsD2JDpFsn"
      },
      "source": [
        "8) 15-50(50 dahil) arası tam sayılardan oluşan bir array oluşturun. Daha sonra 10-100 arası(100 dahil) tam sayılardan oluşan 2.bir array oluşturun. Bu 2 arrayi concatanate ederek 3.bir array oluşturun ve bu array'in 25.index ile 50.index'i(50 dahil) arasındaki değerlerini 888 yapın.\n"
      ]
    },
    {
      "cell_type": "code",
      "execution_count": 49,
      "metadata": {
        "colab": {
          "base_uri": "https://localhost:8080/"
        },
        "id": "FZ_Qyy40pGjG",
        "outputId": "a455a715-c3f4-414a-884f-31df28b7782a"
      },
      "outputs": [
        {
          "data": {
            "text/plain": [
              "array([ 15,  16,  17,  18,  19,  20,  21,  22,  23,  24,  25,  26,  27,\n",
              "        28,  29,  30,  31,  32,  33,  34,  35,  36,  37,  38,  39,  40,\n",
              "        41,  42,  43,  44,  45,  46,  47,  48,  49,  50,  10,  11,  12,\n",
              "        13,  14,  15,  16,  17,  18,  19,  20,  21,  22,  23,  24,  25,\n",
              "        26,  27,  28,  29,  30,  31,  32,  33,  34,  35,  36,  37,  38,\n",
              "        39,  40,  41,  42,  43,  44,  45,  46,  47,  48,  49,  50,  51,\n",
              "        52,  53,  54,  55,  56,  57,  58,  59,  60,  61,  62,  63,  64,\n",
              "        65,  66,  67,  68,  69,  70,  71,  72,  73,  74,  75,  76,  77,\n",
              "        78,  79,  80,  81,  82,  83,  84,  85,  86,  87,  88,  89,  90,\n",
              "        91,  92,  93,  94,  95,  96,  97,  98,  99, 100])"
            ]
          },
          "execution_count": 49,
          "metadata": {},
          "output_type": "execute_result"
        }
      ],
      "source": [
        "arr1=np.arange(15,51)\n",
        "arr2=np.arange(10,101)\n",
        "arr3= np.concatenate([arr1,arr2] , axis = 0 )\n",
        "arr3"
      ]
    },
    {
      "cell_type": "code",
      "execution_count": 50,
      "metadata": {
        "colab": {
          "base_uri": "https://localhost:8080/"
        },
        "id": "rsiHUPKlxofz",
        "outputId": "1acd3317-01ce-477b-f17f-c9d85a165779"
      },
      "outputs": [
        {
          "data": {
            "text/plain": [
              "array([ 15,  16,  17,  18,  19,  20,  21,  22,  23,  24,  25,  26,  27,\n",
              "        28,  29,  30,  31,  32,  33,  34,  35,  36,  37,  38,  39, 888,\n",
              "       888, 888, 888, 888, 888, 888, 888, 888, 888, 888, 888, 888, 888,\n",
              "       888, 888, 888, 888, 888, 888, 888, 888, 888, 888, 888, 888,  25,\n",
              "        26,  27,  28,  29,  30,  31,  32,  33,  34,  35,  36,  37,  38,\n",
              "        39,  40,  41,  42,  43,  44,  45,  46,  47,  48,  49,  50,  51,\n",
              "        52,  53,  54,  55,  56,  57,  58,  59,  60,  61,  62,  63,  64,\n",
              "        65,  66,  67,  68,  69,  70,  71,  72,  73,  74,  75,  76,  77,\n",
              "        78,  79,  80,  81,  82,  83,  84,  85,  86,  87,  88,  89,  90,\n",
              "        91,  92,  93,  94,  95,  96,  97,  98,  99, 100])"
            ]
          },
          "execution_count": 50,
          "metadata": {},
          "output_type": "execute_result"
        }
      ],
      "source": [
        "arr3[25:51] = 888\n",
        "arr3"
      ]
    },
    {
      "cell_type": "markdown",
      "metadata": {
        "id": "pCSatdfRpGmq"
      },
      "source": [
        "9) 0-40(40 dahil değil) arası değerlerden oluşan (8,5) shape'inde 2 boyutlu bir array ve  320-360(360 dahil değil) değerlerinden oluşan (8,5) shape'inde 2 boyutlubaşka bir array oluşturun. Devamında bu iki array'i hem axis = 0'da hem de axis = 1'de concatenate ederek farkı karşılaştırın.\n"
      ]
    },
    {
      "cell_type": "code",
      "execution_count": 54,
      "metadata": {
        "colab": {
          "base_uri": "https://localhost:8080/"
        },
        "id": "V8HRz-kqpHl8",
        "outputId": "1f01d836-1ae8-444e-f4ce-cc43f5b01c8d"
      },
      "outputs": [
        {
          "data": {
            "text/plain": [
              "array([[  0,   1,   2,   3,   4],\n",
              "       [  5,   6,   7,   8,   9],\n",
              "       [ 10,  11,  12,  13,  14],\n",
              "       [ 15,  16,  17,  18,  19],\n",
              "       [ 20,  21,  22,  23,  24],\n",
              "       [ 25,  26,  27,  28,  29],\n",
              "       [ 30,  31,  32,  33,  34],\n",
              "       [ 35,  36,  37,  38,  39],\n",
              "       [320, 321, 322, 323, 324],\n",
              "       [325, 326, 327, 328, 329],\n",
              "       [330, 331, 332, 333, 334],\n",
              "       [335, 336, 337, 338, 339],\n",
              "       [340, 341, 342, 343, 344],\n",
              "       [345, 346, 347, 348, 349],\n",
              "       [350, 351, 352, 353, 354],\n",
              "       [355, 356, 357, 358, 359]])"
            ]
          },
          "execution_count": 54,
          "metadata": {},
          "output_type": "execute_result"
        }
      ],
      "source": [
        "arr1=np.arange(0,40).reshape(8,5)\n",
        "arr2=np.arange(320,360).reshape(8,5)\n",
        "arr3= np.concatenate([arr1,arr2] , axis = 0 )\n",
        "arr3"
      ]
    },
    {
      "cell_type": "code",
      "execution_count": 55,
      "metadata": {
        "colab": {
          "base_uri": "https://localhost:8080/"
        },
        "id": "-uXyy5WXyeDO",
        "outputId": "4f5f3d1e-84ec-4aa5-df48-23509cb39903"
      },
      "outputs": [
        {
          "data": {
            "text/plain": [
              "array([[  0,   1,   2,   3,   4, 320, 321, 322, 323, 324],\n",
              "       [  5,   6,   7,   8,   9, 325, 326, 327, 328, 329],\n",
              "       [ 10,  11,  12,  13,  14, 330, 331, 332, 333, 334],\n",
              "       [ 15,  16,  17,  18,  19, 335, 336, 337, 338, 339],\n",
              "       [ 20,  21,  22,  23,  24, 340, 341, 342, 343, 344],\n",
              "       [ 25,  26,  27,  28,  29, 345, 346, 347, 348, 349],\n",
              "       [ 30,  31,  32,  33,  34, 350, 351, 352, 353, 354],\n",
              "       [ 35,  36,  37,  38,  39, 355, 356, 357, 358, 359]])"
            ]
          },
          "execution_count": 55,
          "metadata": {},
          "output_type": "execute_result"
        }
      ],
      "source": [
        "arr4= np.concatenate([arr1,arr2] , axis = 1 )\n",
        "arr4"
      ]
    },
    {
      "cell_type": "markdown",
      "metadata": {
        "id": "okEJ6f9XpHqP"
      },
      "source": [
        "10) 9.Soruda oluşturduğunuz 2 array'i axis = 2'de concatenate etmeye çalışın. Ardından axis = 2'de stacklemeye(yığınlamaya) çalışın. İkisi arasındaki farkı karşılaştırın.\n"
      ]
    },
    {
      "cell_type": "code",
      "execution_count": null,
      "metadata": {
        "id": "84poZtGjpIvb"
      },
      "outputs": [],
      "source": [
        "arr1.reshape(4,2,5)\n",
        "arr2.reshape(2,4,5)\n",
        "arr6 = np.concatenate([arr1,arr2] , axis = 2 )\n",
        "arr6\n",
        "\n",
        "\n",
        "#  concatenate ve stack işleminde belirtilen axis satır ve sutunlardan birleştirme işlemi yapar 0 satırda  1 ise sutundan birleştrir bu yüzden axis = 2 geçersiz bir değerdir  "
      ]
    },
    {
      "cell_type": "markdown",
      "metadata": {
        "id": "PzK2WWmcpIzI"
      },
      "source": [
        "11) [1, 20, 25, 4, 4, 5, 4, 4, 1, 6, 9, 12, 1, 5] değerlerinden oluşan bir boyutlu bir array oluşturun. Devamında bu array'in içinde değeri 5'e eşit olan değerlerin indexleri bulun.\n"
      ]
    },
    {
      "cell_type": "code",
      "execution_count": 68,
      "metadata": {
        "colab": {
          "base_uri": "https://localhost:8080/"
        },
        "id": "AeiZPuUepK1w",
        "outputId": "64db15dc-5e5b-4b62-c328-d1b64b62bf3c"
      },
      "outputs": [
        {
          "data": {
            "text/plain": [
              "(array([ 5, 13]),)"
            ]
          },
          "execution_count": 68,
          "metadata": {},
          "output_type": "execute_result"
        }
      ],
      "source": [
        "arr1d = np.array([1, 20, 25, 4, 4, 5, 4, 4, 1, 6, 9, 12, 1, 5])\n",
        "np.where(arr1d == 5 )"
      ]
    },
    {
      "cell_type": "markdown",
      "metadata": {
        "id": "5-4Y5RwJpK5W"
      },
      "source": [
        "12) Yukarıda oluşturduğunuz array içinde değeri çift olan değerlerin indexlerini bulun.\n"
      ]
    },
    {
      "cell_type": "code",
      "execution_count": 73,
      "metadata": {
        "colab": {
          "base_uri": "https://localhost:8080/"
        },
        "id": "lKecreAepMBW",
        "outputId": "5de067df-dbc4-4a9b-d126-f0fa69791177"
      },
      "outputs": [
        {
          "data": {
            "text/plain": [
              "(array([ 1,  3,  4,  6,  7,  9, 11]),)"
            ]
          },
          "execution_count": 73,
          "metadata": {},
          "output_type": "execute_result"
        }
      ],
      "source": [
        "arr1d = np.array([1, 20, 25, 4, 4, 5, 4, 4, 1, 6, 9, 12, 1, 5])\n",
        "np.where(arr1d%2==0)"
      ]
    },
    {
      "cell_type": "markdown",
      "metadata": {
        "id": "QPFI2HgApMFa"
      },
      "source": [
        "13) Yukarıda oluşturduğunuz array içinde değeri 4'den büyük olan değerlerin indexlerini bulun.\n"
      ]
    },
    {
      "cell_type": "code",
      "execution_count": 75,
      "metadata": {
        "colab": {
          "base_uri": "https://localhost:8080/"
        },
        "id": "6lQpYrZIpM-q",
        "outputId": "c81c4375-27f8-4bd9-d753-3aa746b1ca32"
      },
      "outputs": [
        {
          "data": {
            "text/plain": [
              "(array([ 1,  2,  5,  9, 10, 11, 13]),)"
            ]
          },
          "execution_count": 75,
          "metadata": {},
          "output_type": "execute_result"
        }
      ],
      "source": [
        "np.where(arr1d>4)"
      ]
    },
    {
      "cell_type": "markdown",
      "metadata": {
        "id": "NwdfZJ-ipNGG"
      },
      "source": [
        "14) Yukarıda oluşturduğunuz array içinde değeri 5'e tam bölünen değerlerin indexlerini bulun.\n"
      ]
    },
    {
      "cell_type": "code",
      "execution_count": 76,
      "metadata": {
        "colab": {
          "base_uri": "https://localhost:8080/"
        },
        "id": "XHFRV2s9pNwA",
        "outputId": "3e567476-1a6f-4b9e-841f-fd7f62cb0756"
      },
      "outputs": [
        {
          "data": {
            "text/plain": [
              "(array([ 1,  2,  5, 13]),)"
            ]
          },
          "execution_count": 76,
          "metadata": {},
          "output_type": "execute_result"
        }
      ],
      "source": [
        "np.where(arr1d%5==0)"
      ]
    },
    {
      "cell_type": "markdown",
      "metadata": {
        "id": "1lEJgl05pNz1"
      },
      "source": [
        "15) 85-100(100 dahil) arasından rastgele 1 tam sayı seçin\n"
      ]
    },
    {
      "cell_type": "code",
      "execution_count": 77,
      "metadata": {
        "colab": {
          "base_uri": "https://localhost:8080/"
        },
        "id": "0SeCjfsHpQzL",
        "outputId": "95e8ac2b-562e-49f8-af29-d7b55c2e49d5"
      },
      "outputs": [
        {
          "data": {
            "text/plain": [
              "85"
            ]
          },
          "execution_count": 77,
          "metadata": {},
          "output_type": "execute_result"
        }
      ],
      "source": [
        "np.random.randint(85,101)"
      ]
    },
    {
      "cell_type": "markdown",
      "metadata": {
        "id": "wagCUlrWpQ2x"
      },
      "source": [
        "16) İki basamaklı tam sayılar arasından rastgele sayılar seçerek (3,3) shape'inde bir array oluşturun.\n"
      ]
    },
    {
      "cell_type": "code",
      "execution_count": 79,
      "metadata": {
        "colab": {
          "base_uri": "https://localhost:8080/"
        },
        "id": "9oYV9HTWpR51",
        "outputId": "ca62593a-464b-4caf-e5dc-2bb8e7f7c6c4"
      },
      "outputs": [
        {
          "data": {
            "text/plain": [
              "array([[10, 80, 18],\n",
              "       [91, 68, 47],\n",
              "       [34, 66, 34]])"
            ]
          },
          "execution_count": 79,
          "metadata": {},
          "output_type": "execute_result"
        }
      ],
      "source": [
        "np.random.randint(10,100,9).reshape(3,3)"
      ]
    },
    {
      "cell_type": "markdown",
      "metadata": {
        "id": "IJs-1YShpR9s"
      },
      "source": [
        "17) 35-60 arasındaki tam sayılardan bir array oluşturun, ardından bu array içinden rastgele 1 tam sayı seçin.\n"
      ]
    },
    {
      "cell_type": "code",
      "execution_count": 85,
      "metadata": {
        "colab": {
          "base_uri": "https://localhost:8080/"
        },
        "id": "JYF9Vs46pS4Q",
        "outputId": "b3b2359d-ce34-48c1-985c-e323ba7ccf75"
      },
      "outputs": [
        {
          "data": {
            "text/plain": [
              "42"
            ]
          },
          "execution_count": 85,
          "metadata": {},
          "output_type": "execute_result"
        }
      ],
      "source": [
        "arr = np.arange(35,60)\n",
        "np.random.choice(arr)"
      ]
    },
    {
      "cell_type": "markdown",
      "metadata": {
        "id": "IPXqEQ3ZpS7x"
      },
      "source": [
        "18) Sadece [3, 8, 10, 53] değerlerinden oluşan (2,5) shape'inde 2 boyutlu bir array oluşturun."
      ]
    },
    {
      "cell_type": "code",
      "execution_count": 89,
      "metadata": {
        "colab": {
          "base_uri": "https://localhost:8080/"
        },
        "id": "iyIDEdQhpTu1",
        "outputId": "7c6e9856-2f2d-4254-b2f8-4547603ee7ad"
      },
      "outputs": [
        {
          "data": {
            "text/plain": [
              "array([[ 3,  8],\n",
              "       [10, 53]])"
            ]
          },
          "execution_count": 89,
          "metadata": {},
          "output_type": "execute_result"
        }
      ],
      "source": [
        "arr2d=np.array([3,8,10,53]).reshape(2,2)\n",
        "arr2d\n",
        "#4 elemanlı bir arrayda (2,5) matrisinde bir shape oluşturulamaz. Bunun için 10 eleman gereklidir."
      ]
    }
  ],
  "metadata": {
    "colab": {
      "provenance": [],
      "toc_visible": true
    },
    "kernelspec": {
      "display_name": "Python 3",
      "name": "python3"
    },
    "language_info": {
      "name": "python"
    }
  },
  "nbformat": 4,
  "nbformat_minor": 0
}
